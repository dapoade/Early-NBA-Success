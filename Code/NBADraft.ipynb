{
 "cells": [
  {
   "cell_type": "markdown",
   "metadata": {},
   "source": [
    "# R Notebook"
   ]
  },
  {
   "cell_type": "code",
   "execution_count": 115,
   "metadata": {},
   "outputs": [],
   "source": [
    "library(tidyverse)\n",
    "library(\"stringr\")\n",
    "library(dplyr)"
   ]
  },
  {
   "cell_type": "markdown",
   "metadata": {},
   "source": [
    "# Load in Draft Data and Clean "
   ]
  },
  {
   "cell_type": "code",
   "execution_count": 116,
   "metadata": {},
   "outputs": [],
   "source": [
    "drop = c(\"College\", \"Team\", \"X\")\n",
    "\n",
    "draft_data = read.csv(\"/Users/dapoadegbile/Desktop/NBA Data/NBA_Full_Draft_1947-2018.csv\", header= TRUE)\n",
    "draft_data = subset(draft_data, select = -c(College, Team, X))\n",
    "draft_data = na.omit(draft_data)\n",
    "\n",
    "#Rename to have the same column name\n",
    "colnames(draft_data)[1] = \"PLAYER\"\n"
   ]
  },
  {
   "cell_type": "code",
   "execution_count": null,
   "metadata": {},
   "outputs": [],
   "source": []
  },
  {
   "cell_type": "code",
   "execution_count": 117,
   "metadata": {},
   "outputs": [],
   "source": [
    "draft_data = subset(draft_data, Play_Yrs >3)\n"
   ]
  },
  {
   "cell_type": "code",
   "execution_count": 118,
   "metadata": {},
   "outputs": [],
   "source": [
    "draft2009 = subset(draft_data, Year == 2009)\n",
    "draft2010 = subset(draft_data, Year == 2010)\n",
    "draft2011 = subset(draft_data, Year == 2011)\n",
    "draft2012 = subset(draft_data, Year == 2012)\n",
    "draft2013 = subset(draft_data, Year == 2013)\n",
    "draft2014 = subset(draft_data, Year == 2014)\n",
    "draft2015 = subset(draft_data, Year == 2015)\n",
    "draft2016 = subset(draft_data, Year == 2016)"
   ]
  },
  {
   "cell_type": "markdown",
   "metadata": {},
   "source": [
    "# Load in College Stats and Clean"
   ]
  },
  {
   "cell_type": "code",
   "execution_count": 119,
   "metadata": {},
   "outputs": [
    {
     "data": {
      "text/html": [
       "<table>\n",
       "<caption>A data.frame: 6 × 28</caption>\n",
       "<thead>\n",
       "\t<tr><th></th><th scope=col>RK</th><th scope=col>PICK</th><th scope=col>CLASS</th><th scope=col>HEIGHT</th><th scope=col>PLAYER</th><th scope=col>SCHOOL</th><th scope=col>CONF</th><th scope=col>MIN.</th><th scope=col>PRPG.</th><th scope=col>BPM</th><th scope=col>⋯</th><th scope=col>BLK</th><th scope=col>STL</th><th scope=col>FTR</th><th scope=col>FT</th><th scope=col>FT_PERC</th><th scope=col>X2P</th><th scope=col>X2P_PERC</th><th scope=col>X3PR</th><th scope=col>X3P</th><th scope=col>X3P_PERC</th></tr>\n",
       "\t<tr><th></th><th scope=col>&lt;int&gt;</th><th scope=col>&lt;int&gt;</th><th scope=col>&lt;chr&gt;</th><th scope=col>&lt;chr&gt;</th><th scope=col>&lt;chr&gt;</th><th scope=col>&lt;chr&gt;</th><th scope=col>&lt;chr&gt;</th><th scope=col>&lt;dbl&gt;</th><th scope=col>&lt;dbl&gt;</th><th scope=col>&lt;dbl&gt;</th><th scope=col>⋯</th><th scope=col>&lt;dbl&gt;</th><th scope=col>&lt;dbl&gt;</th><th scope=col>&lt;dbl&gt;</th><th scope=col>&lt;chr&gt;</th><th scope=col>&lt;dbl&gt;</th><th scope=col>&lt;chr&gt;</th><th scope=col>&lt;dbl&gt;</th><th scope=col>&lt;dbl&gt;</th><th scope=col>&lt;chr&gt;</th><th scope=col>&lt;dbl&gt;</th></tr>\n",
       "</thead>\n",
       "<tbody>\n",
       "\t<tr><th scope=row>1</th><td>1</td><td> 7</td><td>Jr</td><td>6/3 </td><td>Stephen Curry </td><td>Davidson      </td><td>SC </td><td>82.1</td><td>6.7</td><td>15.3</td><td>⋯</td><td>0.7</td><td>3.9</td><td>36.1</td><td>212-241</td><td>0.880</td><td>176-340</td><td>0.518</td><td>49.0</td><td>127-327</td><td>0.388</td></tr>\n",
       "\t<tr><th scope=row>2</th><td>2</td><td>20</td><td>Sr</td><td>6/2 </td><td>Eric Maynor   </td><td>VCU           </td><td>CAA</td><td>88.0</td><td>6.5</td><td>10.6</td><td>⋯</td><td>0.5</td><td>2.9</td><td>45.3</td><td>198-243</td><td>0.815</td><td>182-353</td><td>0.516</td><td>34.1</td><td>66-183 </td><td>0.361</td></tr>\n",
       "\t<tr><th scope=row>3</th><td>3</td><td> 3</td><td>So</td><td>6/5 </td><td>James Harden  </td><td>Arizona St.   </td><td>P12</td><td>88.3</td><td>6.5</td><td> 9.8</td><td>⋯</td><td>1.1</td><td>3.1</td><td>59.7</td><td>204-270</td><td>0.756</td><td>163-289</td><td>0.564</td><td>36.1</td><td>58-163 </td><td>0.356</td></tr>\n",
       "\t<tr><th scope=row>4</th><td>4</td><td>18</td><td>Jr</td><td>5/11</td><td>Ty Lawson     </td><td>North Carolina</td><td>ACC</td><td>69.3</td><td>6.4</td><td>14.0</td><td>⋯</td><td>0.4</td><td>3.8</td><td>61.6</td><td>164-205</td><td>0.800</td><td>127-229</td><td>0.555</td><td>31.2</td><td>48-104 </td><td>0.462</td></tr>\n",
       "\t<tr><th scope=row>5</th><td>5</td><td> 1</td><td>So</td><td>6/10</td><td>Blake Griffin </td><td>Oklahoma      </td><td>B12</td><td>80.6</td><td>6.4</td><td>12.4</td><td>⋯</td><td>3.6</td><td>1.9</td><td>70.6</td><td>191-324</td><td>0.590</td><td>297-451</td><td>0.659</td><td> 1.7</td><td>8-Mar  </td><td>0.375</td></tr>\n",
       "\t<tr><th scope=row>6</th><td>6</td><td>52</td><td>Jr</td><td>6/8 </td><td>Luke Harangody</td><td>Notre Dame    </td><td>BE </td><td>82.9</td><td>6.4</td><td> 8.2</td><td>⋯</td><td>2.5</td><td>1.6</td><td>35.1</td><td>178-229</td><td>0.777</td><td>286-615</td><td>0.465</td><td> 5.8</td><td>14-38  </td><td>0.368</td></tr>\n",
       "</tbody>\n",
       "</table>\n"
      ],
      "text/latex": [
       "A data.frame: 6 × 28\n",
       "\\begin{tabular}{r|lllllllllllllllllllll}\n",
       "  & RK & PICK & CLASS & HEIGHT & PLAYER & SCHOOL & CONF & MIN. & PRPG. & BPM & ⋯ & BLK & STL & FTR & FT & FT\\_PERC & X2P & X2P\\_PERC & X3PR & X3P & X3P\\_PERC\\\\\n",
       "  & <int> & <int> & <chr> & <chr> & <chr> & <chr> & <chr> & <dbl> & <dbl> & <dbl> & ⋯ & <dbl> & <dbl> & <dbl> & <chr> & <dbl> & <chr> & <dbl> & <dbl> & <chr> & <dbl>\\\\\n",
       "\\hline\n",
       "\t1 & 1 &  7 & Jr & 6/3  & Stephen Curry  & Davidson       & SC  & 82.1 & 6.7 & 15.3 & ⋯ & 0.7 & 3.9 & 36.1 & 212-241 & 0.880 & 176-340 & 0.518 & 49.0 & 127-327 & 0.388\\\\\n",
       "\t2 & 2 & 20 & Sr & 6/2  & Eric Maynor    & VCU            & CAA & 88.0 & 6.5 & 10.6 & ⋯ & 0.5 & 2.9 & 45.3 & 198-243 & 0.815 & 182-353 & 0.516 & 34.1 & 66-183  & 0.361\\\\\n",
       "\t3 & 3 &  3 & So & 6/5  & James Harden   & Arizona St.    & P12 & 88.3 & 6.5 &  9.8 & ⋯ & 1.1 & 3.1 & 59.7 & 204-270 & 0.756 & 163-289 & 0.564 & 36.1 & 58-163  & 0.356\\\\\n",
       "\t4 & 4 & 18 & Jr & 5/11 & Ty Lawson      & North Carolina & ACC & 69.3 & 6.4 & 14.0 & ⋯ & 0.4 & 3.8 & 61.6 & 164-205 & 0.800 & 127-229 & 0.555 & 31.2 & 48-104  & 0.462\\\\\n",
       "\t5 & 5 &  1 & So & 6/10 & Blake Griffin  & Oklahoma       & B12 & 80.6 & 6.4 & 12.4 & ⋯ & 3.6 & 1.9 & 70.6 & 191-324 & 0.590 & 297-451 & 0.659 &  1.7 & 8-Mar   & 0.375\\\\\n",
       "\t6 & 6 & 52 & Jr & 6/8  & Luke Harangody & Notre Dame     & BE  & 82.9 & 6.4 &  8.2 & ⋯ & 2.5 & 1.6 & 35.1 & 178-229 & 0.777 & 286-615 & 0.465 &  5.8 & 14-38   & 0.368\\\\\n",
       "\\end{tabular}\n"
      ],
      "text/markdown": [
       "\n",
       "A data.frame: 6 × 28\n",
       "\n",
       "| <!--/--> | RK &lt;int&gt; | PICK &lt;int&gt; | CLASS &lt;chr&gt; | HEIGHT &lt;chr&gt; | PLAYER &lt;chr&gt; | SCHOOL &lt;chr&gt; | CONF &lt;chr&gt; | MIN. &lt;dbl&gt; | PRPG. &lt;dbl&gt; | BPM &lt;dbl&gt; | ⋯ ⋯ | BLK &lt;dbl&gt; | STL &lt;dbl&gt; | FTR &lt;dbl&gt; | FT &lt;chr&gt; | FT_PERC &lt;dbl&gt; | X2P &lt;chr&gt; | X2P_PERC &lt;dbl&gt; | X3PR &lt;dbl&gt; | X3P &lt;chr&gt; | X3P_PERC &lt;dbl&gt; |\n",
       "|---|---|---|---|---|---|---|---|---|---|---|---|---|---|---|---|---|---|---|---|---|---|\n",
       "| 1 | 1 |  7 | Jr | 6/3  | Stephen Curry  | Davidson       | SC  | 82.1 | 6.7 | 15.3 | ⋯ | 0.7 | 3.9 | 36.1 | 212-241 | 0.880 | 176-340 | 0.518 | 49.0 | 127-327 | 0.388 |\n",
       "| 2 | 2 | 20 | Sr | 6/2  | Eric Maynor    | VCU            | CAA | 88.0 | 6.5 | 10.6 | ⋯ | 0.5 | 2.9 | 45.3 | 198-243 | 0.815 | 182-353 | 0.516 | 34.1 | 66-183  | 0.361 |\n",
       "| 3 | 3 |  3 | So | 6/5  | James Harden   | Arizona St.    | P12 | 88.3 | 6.5 |  9.8 | ⋯ | 1.1 | 3.1 | 59.7 | 204-270 | 0.756 | 163-289 | 0.564 | 36.1 | 58-163  | 0.356 |\n",
       "| 4 | 4 | 18 | Jr | 5/11 | Ty Lawson      | North Carolina | ACC | 69.3 | 6.4 | 14.0 | ⋯ | 0.4 | 3.8 | 61.6 | 164-205 | 0.800 | 127-229 | 0.555 | 31.2 | 48-104  | 0.462 |\n",
       "| 5 | 5 |  1 | So | 6/10 | Blake Griffin  | Oklahoma       | B12 | 80.6 | 6.4 | 12.4 | ⋯ | 3.6 | 1.9 | 70.6 | 191-324 | 0.590 | 297-451 | 0.659 |  1.7 | 8-Mar   | 0.375 |\n",
       "| 6 | 6 | 52 | Jr | 6/8  | Luke Harangody | Notre Dame     | BE  | 82.9 | 6.4 |  8.2 | ⋯ | 2.5 | 1.6 | 35.1 | 178-229 | 0.777 | 286-615 | 0.465 |  5.8 | 14-38   | 0.368 |\n",
       "\n"
      ],
      "text/plain": [
       "  RK PICK CLASS HEIGHT PLAYER         SCHOOL         CONF MIN. PRPG. BPM  ⋯ BLK\n",
       "1 1   7   Jr    6/3    Stephen Curry  Davidson       SC   82.1 6.7   15.3 ⋯ 0.7\n",
       "2 2  20   Sr    6/2    Eric Maynor    VCU            CAA  88.0 6.5   10.6 ⋯ 0.5\n",
       "3 3   3   So    6/5    James Harden   Arizona St.    P12  88.3 6.5    9.8 ⋯ 1.1\n",
       "4 4  18   Jr    5/11   Ty Lawson      North Carolina ACC  69.3 6.4   14.0 ⋯ 0.4\n",
       "5 5   1   So    6/10   Blake Griffin  Oklahoma       B12  80.6 6.4   12.4 ⋯ 3.6\n",
       "6 6  52   Jr    6/8    Luke Harangody Notre Dame     BE   82.9 6.4    8.2 ⋯ 2.5\n",
       "  STL FTR  FT      FT_PERC X2P     X2P_PERC X3PR X3P     X3P_PERC\n",
       "1 3.9 36.1 212-241 0.880   176-340 0.518    49.0 127-327 0.388   \n",
       "2 2.9 45.3 198-243 0.815   182-353 0.516    34.1 66-183  0.361   \n",
       "3 3.1 59.7 204-270 0.756   163-289 0.564    36.1 58-163  0.356   \n",
       "4 3.8 61.6 164-205 0.800   127-229 0.555    31.2 48-104  0.462   \n",
       "5 1.9 70.6 191-324 0.590   297-451 0.659     1.7 8-Mar   0.375   \n",
       "6 1.6 35.1 178-229 0.777   286-615 0.465     5.8 14-38   0.368   "
      ]
     },
     "metadata": {},
     "output_type": "display_data"
    },
    {
     "data": {
      "text/html": [
       "<style>\n",
       ".list-inline {list-style: none; margin:0; padding: 0}\n",
       ".list-inline>li {display: inline-block}\n",
       ".list-inline>li:not(:last-child)::after {content: \"\\00b7\"; padding: 0 .5ex}\n",
       "</style>\n",
       "<ol class=list-inline><li>'RK'</li><li>'PICK'</li><li>'CLASS'</li><li>'HEIGHT'</li><li>'PLAYER'</li><li>'SCHOOL'</li><li>'CONF'</li><li>'MIN.'</li><li>'PRPG.'</li><li>'BPM'</li><li>'ORTG'</li><li>'USG'</li><li>'EFG'</li><li>'TS'</li><li>'OR'</li><li>'DR'</li><li>'AST'</li><li>'TO'</li><li>'BLK'</li><li>'STL'</li><li>'FTR'</li><li>'FT'</li><li>'FT_PERC'</li><li>'X2P'</li><li>'X2P_PERC'</li><li>'X3PR'</li><li>'X3P'</li><li>'X3P_PERC'</li></ol>\n"
      ],
      "text/latex": [
       "\\begin{enumerate*}\n",
       "\\item 'RK'\n",
       "\\item 'PICK'\n",
       "\\item 'CLASS'\n",
       "\\item 'HEIGHT'\n",
       "\\item 'PLAYER'\n",
       "\\item 'SCHOOL'\n",
       "\\item 'CONF'\n",
       "\\item 'MIN.'\n",
       "\\item 'PRPG.'\n",
       "\\item 'BPM'\n",
       "\\item 'ORTG'\n",
       "\\item 'USG'\n",
       "\\item 'EFG'\n",
       "\\item 'TS'\n",
       "\\item 'OR'\n",
       "\\item 'DR'\n",
       "\\item 'AST'\n",
       "\\item 'TO'\n",
       "\\item 'BLK'\n",
       "\\item 'STL'\n",
       "\\item 'FTR'\n",
       "\\item 'FT'\n",
       "\\item 'FT\\_PERC'\n",
       "\\item 'X2P'\n",
       "\\item 'X2P\\_PERC'\n",
       "\\item 'X3PR'\n",
       "\\item 'X3P'\n",
       "\\item 'X3P\\_PERC'\n",
       "\\end{enumerate*}\n"
      ],
      "text/markdown": [
       "1. 'RK'\n",
       "2. 'PICK'\n",
       "3. 'CLASS'\n",
       "4. 'HEIGHT'\n",
       "5. 'PLAYER'\n",
       "6. 'SCHOOL'\n",
       "7. 'CONF'\n",
       "8. 'MIN.'\n",
       "9. 'PRPG.'\n",
       "10. 'BPM'\n",
       "11. 'ORTG'\n",
       "12. 'USG'\n",
       "13. 'EFG'\n",
       "14. 'TS'\n",
       "15. 'OR'\n",
       "16. 'DR'\n",
       "17. 'AST'\n",
       "18. 'TO'\n",
       "19. 'BLK'\n",
       "20. 'STL'\n",
       "21. 'FTR'\n",
       "22. 'FT'\n",
       "23. 'FT_PERC'\n",
       "24. 'X2P'\n",
       "25. 'X2P_PERC'\n",
       "26. 'X3PR'\n",
       "27. 'X3P'\n",
       "28. 'X3P_PERC'\n",
       "\n",
       "\n"
      ],
      "text/plain": [
       " [1] \"RK\"       \"PICK\"     \"CLASS\"    \"HEIGHT\"   \"PLAYER\"   \"SCHOOL\"  \n",
       " [7] \"CONF\"     \"MIN.\"     \"PRPG.\"    \"BPM\"      \"ORTG\"     \"USG\"     \n",
       "[13] \"EFG\"      \"TS\"       \"OR\"       \"DR\"       \"AST\"      \"TO\"      \n",
       "[19] \"BLK\"      \"STL\"      \"FTR\"      \"FT\"       \"FT_PERC\"  \"X2P\"     \n",
       "[25] \"X2P_PERC\" \"X3PR\"     \"X3P\"      \"X3P_PERC\""
      ]
     },
     "metadata": {},
     "output_type": "display_data"
    }
   ],
   "source": [
    "# Load In Draft Data per Year \n",
    "# also need to get rid of all the rows filled with NA\n",
    "\n",
    "college2009 = na.omit(read.csv(\"/Users/dapoadegbile/Desktop/NBA Data/NCAA2009.csv\"))\n",
    "college2010 = na.omit(read.csv(\"/Users/dapoadegbile/Desktop/NBA Data/NCAA2010.csv\"))\n",
    "college2011 = na.omit(read.csv(\"/Users/dapoadegbile/Desktop/NBA Data/NCAA2011.csv\"))\n",
    "college2012 = na.omit(read.csv(\"/Users/dapoadegbile/Desktop/NBA Data/NCAA2012.csv\"))\n",
    "college2013 = na.omit(read.csv(\"/Users/dapoadegbile/Desktop/NBA Data/NCAA2013.csv\"))\n",
    "college2014 = na.omit(read.csv(\"/Users/dapoadegbile/Desktop/NBA Data/NCAA2014.csv\"))\n",
    "college2015 = na.omit(read.csv(\"/Users/dapoadegbile/Desktop/NBA Data/NCAA2015.csv\"))\n",
    "college2016 = na.omit(read.csv(\"/Users/dapoadegbile/Desktop/NBA Data/NCAA2016.csv\"))\n",
    "\n",
    "head(college2009)\n",
    "colnames(college2009)"
   ]
  },
  {
   "cell_type": "code",
   "execution_count": 120,
   "metadata": {},
   "outputs": [],
   "source": [
    "#function to clean college data\n",
    "\n",
    "library(reshape2)\n",
    "\n",
    "\n",
    "clean_college = function(df){\n",
    "    df = subset(df, select = -c(RK, PRPG., FT, X2P, X3P, SCHOOL, MIN., PICK))\n",
    "    new_height = colsplit(df$HEIGHT, '/', names =  c('feet','inches'))\n",
    "    total_height = (new_height$feet * 12) + new_height$inches\n",
    "    df = subset(df, select = -c(HEIGHT))\n",
    "    \n",
    "    df$HEIGHT_IN = total_height\n",
    "    \n",
    "    return(df)    \n",
    "}\n",
    "\n"
   ]
  },
  {
   "cell_type": "code",
   "execution_count": 121,
   "metadata": {},
   "outputs": [],
   "source": [
    "college2009 = clean_college(college2009)\n",
    "college2010 = clean_college(college2010)\n",
    "college2011 = clean_college(college2011)\n",
    "college2012 = clean_college(college2012)\n",
    "college2013 = clean_college(college2013)\n",
    "college2014 = clean_college(college2014)\n",
    "college2015 = clean_college(college2015)\n",
    "college2016 = clean_college(college2016)"
   ]
  },
  {
   "cell_type": "code",
   "execution_count": 122,
   "metadata": {},
   "outputs": [
    {
     "data": {
      "text/html": [
       "<table>\n",
       "<caption>A data.frame: 6 × 20</caption>\n",
       "<thead>\n",
       "\t<tr><th></th><th scope=col>CLASS</th><th scope=col>PLAYER</th><th scope=col>CONF</th><th scope=col>BPM</th><th scope=col>ORTG</th><th scope=col>USG</th><th scope=col>EFG</th><th scope=col>TS</th><th scope=col>OR</th><th scope=col>DR</th><th scope=col>AST</th><th scope=col>TO</th><th scope=col>BLK</th><th scope=col>STL</th><th scope=col>FTR</th><th scope=col>FT_PERC</th><th scope=col>X2P_PERC</th><th scope=col>X3PR</th><th scope=col>X3P_PERC</th><th scope=col>HEIGHT_IN</th></tr>\n",
       "\t<tr><th></th><th scope=col>&lt;chr&gt;</th><th scope=col>&lt;chr&gt;</th><th scope=col>&lt;chr&gt;</th><th scope=col>&lt;dbl&gt;</th><th scope=col>&lt;dbl&gt;</th><th scope=col>&lt;dbl&gt;</th><th scope=col>&lt;dbl&gt;</th><th scope=col>&lt;dbl&gt;</th><th scope=col>&lt;dbl&gt;</th><th scope=col>&lt;dbl&gt;</th><th scope=col>&lt;dbl&gt;</th><th scope=col>&lt;dbl&gt;</th><th scope=col>&lt;dbl&gt;</th><th scope=col>&lt;dbl&gt;</th><th scope=col>&lt;dbl&gt;</th><th scope=col>&lt;dbl&gt;</th><th scope=col>&lt;dbl&gt;</th><th scope=col>&lt;dbl&gt;</th><th scope=col>&lt;dbl&gt;</th><th scope=col>&lt;dbl&gt;</th></tr>\n",
       "</thead>\n",
       "<tbody>\n",
       "\t<tr><th scope=row>1</th><td>Fr</td><td>Ben Simmons   </td><td>SEC</td><td> 9.8</td><td>112.9</td><td>28.2</td><td>56.1</td><td>60.0</td><td>9.6</td><td>26.8</td><td>27.4</td><td>18.6</td><td>2.5</td><td>3.1</td><td>76.9</td><td>0.670</td><td>0.561</td><td> 0.8</td><td>0.333</td><td>82</td></tr>\n",
       "\t<tr><th scope=row>2</th><td>Fr</td><td>Brandon Ingram</td><td>ACC</td><td> 6.8</td><td>112.1</td><td>24.6</td><td>52.5</td><td>55.3</td><td>6.1</td><td>15.4</td><td>11.3</td><td>13.7</td><td>3.6</td><td>1.9</td><td>35.1</td><td>0.682</td><td>0.464</td><td>40.3</td><td>0.410</td><td>81</td></tr>\n",
       "\t<tr><th scope=row>3</th><td>Fr</td><td>Jaylen Brown  </td><td>P12</td><td> 2.7</td><td> 95.4</td><td>30.9</td><td>47.1</td><td>51.8</td><td>4.5</td><td>16.5</td><td>15.1</td><td>21.0</td><td>2.2</td><td>1.7</td><td>57.4</td><td>0.654</td><td>0.482</td><td>27.0</td><td>0.294</td><td>79</td></tr>\n",
       "\t<tr><th scope=row>4</th><td>Jr</td><td>Kris Dunn     </td><td>BE </td><td> 9.5</td><td>103.6</td><td>29.3</td><td>49.9</td><td>54.1</td><td>3.5</td><td>14.8</td><td>41.8</td><td>20.9</td><td>1.9</td><td>4.3</td><td>46.2</td><td>0.695</td><td>0.477</td><td>27.5</td><td>0.372</td><td>76</td></tr>\n",
       "\t<tr><th scope=row>5</th><td>Sr</td><td>Buddy Hield   </td><td>B12</td><td>11.9</td><td>121.5</td><td>28.4</td><td>62.3</td><td>66.5</td><td>4.0</td><td>13.0</td><td>12.7</td><td>17.1</td><td>1.4</td><td>1.8</td><td>33.3</td><td>0.880</td><td>0.552</td><td>53.6</td><td>0.457</td><td>76</td></tr>\n",
       "\t<tr><th scope=row>6</th><td>Fr</td><td>Jamal Murray  </td><td>SEC</td><td> 9.0</td><td>118.0</td><td>25.4</td><td>55.9</td><td>59.0</td><td>4.9</td><td>11.1</td><td>12.1</td><td>15.3</td><td>0.9</td><td>1.6</td><td>28.3</td><td>0.783</td><td>0.502</td><td>51.5</td><td>0.408</td><td>76</td></tr>\n",
       "</tbody>\n",
       "</table>\n"
      ],
      "text/latex": [
       "A data.frame: 6 × 20\n",
       "\\begin{tabular}{r|llllllllllllllllllll}\n",
       "  & CLASS & PLAYER & CONF & BPM & ORTG & USG & EFG & TS & OR & DR & AST & TO & BLK & STL & FTR & FT\\_PERC & X2P\\_PERC & X3PR & X3P\\_PERC & HEIGHT\\_IN\\\\\n",
       "  & <chr> & <chr> & <chr> & <dbl> & <dbl> & <dbl> & <dbl> & <dbl> & <dbl> & <dbl> & <dbl> & <dbl> & <dbl> & <dbl> & <dbl> & <dbl> & <dbl> & <dbl> & <dbl> & <dbl>\\\\\n",
       "\\hline\n",
       "\t1 & Fr & Ben Simmons    & SEC &  9.8 & 112.9 & 28.2 & 56.1 & 60.0 & 9.6 & 26.8 & 27.4 & 18.6 & 2.5 & 3.1 & 76.9 & 0.670 & 0.561 &  0.8 & 0.333 & 82\\\\\n",
       "\t2 & Fr & Brandon Ingram & ACC &  6.8 & 112.1 & 24.6 & 52.5 & 55.3 & 6.1 & 15.4 & 11.3 & 13.7 & 3.6 & 1.9 & 35.1 & 0.682 & 0.464 & 40.3 & 0.410 & 81\\\\\n",
       "\t3 & Fr & Jaylen Brown   & P12 &  2.7 &  95.4 & 30.9 & 47.1 & 51.8 & 4.5 & 16.5 & 15.1 & 21.0 & 2.2 & 1.7 & 57.4 & 0.654 & 0.482 & 27.0 & 0.294 & 79\\\\\n",
       "\t4 & Jr & Kris Dunn      & BE  &  9.5 & 103.6 & 29.3 & 49.9 & 54.1 & 3.5 & 14.8 & 41.8 & 20.9 & 1.9 & 4.3 & 46.2 & 0.695 & 0.477 & 27.5 & 0.372 & 76\\\\\n",
       "\t5 & Sr & Buddy Hield    & B12 & 11.9 & 121.5 & 28.4 & 62.3 & 66.5 & 4.0 & 13.0 & 12.7 & 17.1 & 1.4 & 1.8 & 33.3 & 0.880 & 0.552 & 53.6 & 0.457 & 76\\\\\n",
       "\t6 & Fr & Jamal Murray   & SEC &  9.0 & 118.0 & 25.4 & 55.9 & 59.0 & 4.9 & 11.1 & 12.1 & 15.3 & 0.9 & 1.6 & 28.3 & 0.783 & 0.502 & 51.5 & 0.408 & 76\\\\\n",
       "\\end{tabular}\n"
      ],
      "text/markdown": [
       "\n",
       "A data.frame: 6 × 20\n",
       "\n",
       "| <!--/--> | CLASS &lt;chr&gt; | PLAYER &lt;chr&gt; | CONF &lt;chr&gt; | BPM &lt;dbl&gt; | ORTG &lt;dbl&gt; | USG &lt;dbl&gt; | EFG &lt;dbl&gt; | TS &lt;dbl&gt; | OR &lt;dbl&gt; | DR &lt;dbl&gt; | AST &lt;dbl&gt; | TO &lt;dbl&gt; | BLK &lt;dbl&gt; | STL &lt;dbl&gt; | FTR &lt;dbl&gt; | FT_PERC &lt;dbl&gt; | X2P_PERC &lt;dbl&gt; | X3PR &lt;dbl&gt; | X3P_PERC &lt;dbl&gt; | HEIGHT_IN &lt;dbl&gt; |\n",
       "|---|---|---|---|---|---|---|---|---|---|---|---|---|---|---|---|---|---|---|---|---|\n",
       "| 1 | Fr | Ben Simmons    | SEC |  9.8 | 112.9 | 28.2 | 56.1 | 60.0 | 9.6 | 26.8 | 27.4 | 18.6 | 2.5 | 3.1 | 76.9 | 0.670 | 0.561 |  0.8 | 0.333 | 82 |\n",
       "| 2 | Fr | Brandon Ingram | ACC |  6.8 | 112.1 | 24.6 | 52.5 | 55.3 | 6.1 | 15.4 | 11.3 | 13.7 | 3.6 | 1.9 | 35.1 | 0.682 | 0.464 | 40.3 | 0.410 | 81 |\n",
       "| 3 | Fr | Jaylen Brown   | P12 |  2.7 |  95.4 | 30.9 | 47.1 | 51.8 | 4.5 | 16.5 | 15.1 | 21.0 | 2.2 | 1.7 | 57.4 | 0.654 | 0.482 | 27.0 | 0.294 | 79 |\n",
       "| 4 | Jr | Kris Dunn      | BE  |  9.5 | 103.6 | 29.3 | 49.9 | 54.1 | 3.5 | 14.8 | 41.8 | 20.9 | 1.9 | 4.3 | 46.2 | 0.695 | 0.477 | 27.5 | 0.372 | 76 |\n",
       "| 5 | Sr | Buddy Hield    | B12 | 11.9 | 121.5 | 28.4 | 62.3 | 66.5 | 4.0 | 13.0 | 12.7 | 17.1 | 1.4 | 1.8 | 33.3 | 0.880 | 0.552 | 53.6 | 0.457 | 76 |\n",
       "| 6 | Fr | Jamal Murray   | SEC |  9.0 | 118.0 | 25.4 | 55.9 | 59.0 | 4.9 | 11.1 | 12.1 | 15.3 | 0.9 | 1.6 | 28.3 | 0.783 | 0.502 | 51.5 | 0.408 | 76 |\n",
       "\n"
      ],
      "text/plain": [
       "  CLASS PLAYER         CONF BPM  ORTG  USG  EFG  TS   OR  DR   AST  TO   BLK\n",
       "1 Fr    Ben Simmons    SEC   9.8 112.9 28.2 56.1 60.0 9.6 26.8 27.4 18.6 2.5\n",
       "2 Fr    Brandon Ingram ACC   6.8 112.1 24.6 52.5 55.3 6.1 15.4 11.3 13.7 3.6\n",
       "3 Fr    Jaylen Brown   P12   2.7  95.4 30.9 47.1 51.8 4.5 16.5 15.1 21.0 2.2\n",
       "4 Jr    Kris Dunn      BE    9.5 103.6 29.3 49.9 54.1 3.5 14.8 41.8 20.9 1.9\n",
       "5 Sr    Buddy Hield    B12  11.9 121.5 28.4 62.3 66.5 4.0 13.0 12.7 17.1 1.4\n",
       "6 Fr    Jamal Murray   SEC   9.0 118.0 25.4 55.9 59.0 4.9 11.1 12.1 15.3 0.9\n",
       "  STL FTR  FT_PERC X2P_PERC X3PR X3P_PERC HEIGHT_IN\n",
       "1 3.1 76.9 0.670   0.561     0.8 0.333    82       \n",
       "2 1.9 35.1 0.682   0.464    40.3 0.410    81       \n",
       "3 1.7 57.4 0.654   0.482    27.0 0.294    79       \n",
       "4 4.3 46.2 0.695   0.477    27.5 0.372    76       \n",
       "5 1.8 33.3 0.880   0.552    53.6 0.457    76       \n",
       "6 1.6 28.3 0.783   0.502    51.5 0.408    76       "
      ]
     },
     "metadata": {},
     "output_type": "display_data"
    }
   ],
   "source": [
    "head(college2016)"
   ]
  },
  {
   "cell_type": "code",
   "execution_count": 123,
   "metadata": {},
   "outputs": [],
   "source": [
    "#STRIP PLAYERS NAMES OF NON ALPHABET CHARACTERS FOR UNIFORMITY \n",
    "\n",
    "college2009$PLAYER = str_remove_all(college2009$PLAYER, \"[,-.]\")\n",
    "draft2009$PLAYER = str_remove_all(draft2009$PLAYER, \"[,-.]\")\n",
    "\n",
    "college2013$PLAYER = str_remove_all(college2013$PLAYER, \"[,-.]\")\n",
    "draft2013$PLAYER = str_remove_all(draft2013$PLAYER, \"[,-.]\")\n"
   ]
  },
  {
   "cell_type": "code",
   "execution_count": 124,
   "metadata": {},
   "outputs": [],
   "source": [
    "# draft2009"
   ]
  },
  {
   "cell_type": "code",
   "execution_count": 125,
   "metadata": {},
   "outputs": [],
   "source": [
    "college2010[5, 2] = \"Wesley Johnson\"\n",
    "college2012[27, 2] = \"Maurice Harkless\"\n",
    "# draft2013[7627, 1] = \"Tim Hardaway\"\n",
    "#left out 2016, couldn't resolve error "
   ]
  },
  {
   "cell_type": "code",
   "execution_count": 138,
   "metadata": {},
   "outputs": [
    {
     "name": "stderr",
     "output_type": "stream",
     "text": [
      "Joining, by = \"PLAYER\"\n",
      "\n",
      "Joining, by = \"PLAYER\"\n",
      "\n",
      "Joining, by = \"PLAYER\"\n",
      "\n",
      "Joining, by = \"PLAYER\"\n",
      "\n",
      "Joining, by = \"PLAYER\"\n",
      "\n",
      "Joining, by = \"PLAYER\"\n",
      "\n",
      "Joining, by = \"PLAYER\"\n",
      "\n"
     ]
    }
   ],
   "source": [
    "# merged = merge(draft2009, college2009, by.x =\"PLAYER\", all.x = TRUE)\n",
    "\n",
    "merged2009 = left_join(draft2009, college2009)\n",
    "merged2010 = left_join(draft2010, college2010)\n",
    "merged2011 = left_join(draft2011, college2011)\n",
    "merged2012 = left_join(draft2012, college2012)\n",
    "merged2013 = left_join(draft2013, college2013)\n",
    "merged2014 = left_join(draft2014, college2014)\n",
    "merged2015 = left_join(draft2015, college2015)\n"
   ]
  },
  {
   "cell_type": "code",
   "execution_count": 143,
   "metadata": {},
   "outputs": [],
   "source": [
    "merged2009 = na.omit(merged2009)\n",
    "merged2010 = na.omit(merged2010)\n",
    "merged2011 = na.omit(merged2011)\n",
    "merged2012 = na.omit(merged2012)\n",
    "merged2013 = na.omit(merged2013)\n",
    "merged2014 = na.omit(merged2014)\n",
    "merged2015 = na.omit(merged2015)"
   ]
  },
  {
   "cell_type": "code",
   "execution_count": 145,
   "metadata": {},
   "outputs": [],
   "source": [
    "write.csv(merged2009, \"collegeStats2009.csv\")\n",
    "write.csv(merged2010, \"collegeStats2010.csv\")\n",
    "write.csv(merged2011, \"collegeStats2011.csv\")\n",
    "write.csv(merged2012, \"collegeStats2012.csv\")\n",
    "write.csv(merged2013, \"collegeStats2013.csv\")\n",
    "write.csv(merged2014, \"collegeStats2014.csv\")\n",
    "write.csv(merged2015, \"collegeStats2015.csv\")"
   ]
  },
  {
   "cell_type": "code",
   "execution_count": 151,
   "metadata": {},
   "outputs": [
    {
     "data": {
      "text/html": [
       "<table>\n",
       "<caption>A data.frame: 30 × 24</caption>\n",
       "<thead>\n",
       "\t<tr><th></th><th scope=col>PLAYER</th><th scope=col>Play_Yrs</th><th scope=col>Games</th><th scope=col>Year</th><th scope=col>Pick</th><th scope=col>CLASS</th><th scope=col>CONF</th><th scope=col>BPM</th><th scope=col>ORTG</th><th scope=col>USG</th><th scope=col>⋯</th><th scope=col>AST</th><th scope=col>TO</th><th scope=col>BLK</th><th scope=col>STL</th><th scope=col>FTR</th><th scope=col>FT_PERC</th><th scope=col>X2P_PERC</th><th scope=col>X3PR</th><th scope=col>X3P_PERC</th><th scope=col>HEIGHT_IN</th></tr>\n",
       "\t<tr><th></th><th scope=col>&lt;chr&gt;</th><th scope=col>&lt;int&gt;</th><th scope=col>&lt;int&gt;</th><th scope=col>&lt;int&gt;</th><th scope=col>&lt;int&gt;</th><th scope=col>&lt;chr&gt;</th><th scope=col>&lt;chr&gt;</th><th scope=col>&lt;dbl&gt;</th><th scope=col>&lt;dbl&gt;</th><th scope=col>&lt;dbl&gt;</th><th scope=col>⋯</th><th scope=col>&lt;dbl&gt;</th><th scope=col>&lt;dbl&gt;</th><th scope=col>&lt;dbl&gt;</th><th scope=col>&lt;dbl&gt;</th><th scope=col>&lt;dbl&gt;</th><th scope=col>&lt;dbl&gt;</th><th scope=col>&lt;dbl&gt;</th><th scope=col>&lt;dbl&gt;</th><th scope=col>&lt;dbl&gt;</th><th scope=col>&lt;dbl&gt;</th></tr>\n",
       "</thead>\n",
       "<tbody>\n",
       "\t<tr><th scope=row>1</th><td>John Wall        </td><td>9</td><td>550</td><td>2010</td><td> 1</td><td>Fr</td><td>SEC </td><td> 7.7</td><td>108.7</td><td>26.9</td><td>⋯</td><td>34.8</td><td>24.2</td><td> 1.5</td><td>2.9</td><td>53.0</td><td>0.754</td><td>0.509</td><td>26.0</td><td>0.325</td><td>76</td></tr>\n",
       "\t<tr><th scope=row>2</th><td>Evan Turner      </td><td>9</td><td>623</td><td>2010</td><td> 2</td><td>Jr</td><td>B10 </td><td>11.2</td><td>108.9</td><td>34.5</td><td>⋯</td><td>37.5</td><td>21.7</td><td> 2.9</td><td>3.0</td><td>39.8</td><td>0.758</td><td>0.540</td><td>12.0</td><td>0.364</td><td>79</td></tr>\n",
       "\t<tr><th scope=row>3</th><td>Derrick Favors   </td><td>9</td><td>564</td><td>2010</td><td> 3</td><td>Fr</td><td>ACC </td><td> 7.5</td><td>109.0</td><td>21.8</td><td>⋯</td><td> 7.3</td><td>22.9</td><td> 7.8</td><td>1.8</td><td>47.6</td><td>0.628</td><td>0.617</td><td> 0.3</td><td>0.000</td><td>82</td></tr>\n",
       "\t<tr><th scope=row>4</th><td>Wesley Johnson   </td><td>9</td><td>574</td><td>2010</td><td> 4</td><td>Jr</td><td>BE  </td><td> 9.2</td><td>116.1</td><td>21.1</td><td>⋯</td><td>11.1</td><td>17.5</td><td> 5.7</td><td>2.7</td><td>35.2</td><td>0.772</td><td>0.540</td><td>29.9</td><td>0.415</td><td>79</td></tr>\n",
       "\t<tr><th scope=row>5</th><td>DeMarcus Cousins </td><td>8</td><td>535</td><td>2010</td><td> 5</td><td>Fr</td><td>SEC </td><td> 9.6</td><td>113.5</td><td>30.8</td><td>⋯</td><td> 9.2</td><td>16.0</td><td> 7.5</td><td>2.4</td><td>72.6</td><td>0.604</td><td>0.565</td><td> 1.6</td><td>0.167</td><td>83</td></tr>\n",
       "\t<tr><th scope=row>6</th><td>Ekpe Udoh        </td><td>7</td><td>339</td><td>2010</td><td> 6</td><td>Jr</td><td>B12 </td><td> 8.8</td><td>110.5</td><td>23.0</td><td>⋯</td><td>14.7</td><td>17.9</td><td>11.0</td><td>1.4</td><td>41.4</td><td>0.692</td><td>0.497</td><td> 6.8</td><td>0.269</td><td>82</td></tr>\n",
       "\t<tr><th scope=row>7</th><td>Greg Monroe      </td><td>9</td><td>592</td><td>2010</td><td> 7</td><td>So</td><td>BE  </td><td> 7.9</td><td>106.8</td><td>27.5</td><td>⋯</td><td>22.4</td><td>20.8</td><td> 4.9</td><td>2.2</td><td>54.3</td><td>0.660</td><td>0.545</td><td> 7.0</td><td>0.259</td><td>83</td></tr>\n",
       "\t<tr><th scope=row>8</th><td>Al-Farouq Aminu  </td><td>9</td><td>599</td><td>2010</td><td> 8</td><td>So</td><td>ACC </td><td> 6.4</td><td>101.8</td><td>27.8</td><td>⋯</td><td> 9.1</td><td>20.6</td><td> 4.5</td><td>2.6</td><td>53.2</td><td>0.698</td><td>0.484</td><td>17.6</td><td>0.273</td><td>81</td></tr>\n",
       "\t<tr><th scope=row>9</th><td>Gordon Hayward   </td><td>9</td><td>525</td><td>2010</td><td> 9</td><td>So</td><td>Horz</td><td> 9.0</td><td>113.3</td><td>24.4</td><td>⋯</td><td>12.1</td><td>17.5</td><td> 2.8</td><td>2.0</td><td>57.9</td><td>0.829</td><td>0.592</td><td>42.9</td><td>0.294</td><td>81</td></tr>\n",
       "\t<tr><th scope=row>10</th><td>Paul George      </td><td>9</td><td>535</td><td>2010</td><td>10</td><td>So</td><td>WAC </td><td> 6.7</td><td>105.6</td><td>27.3</td><td>⋯</td><td>22.6</td><td>20.8</td><td> 3.0</td><td>3.9</td><td>34.8</td><td>0.902</td><td>0.489</td><td>46.4</td><td>0.356</td><td>80</td></tr>\n",
       "\t<tr><th scope=row>11</th><td>Cole Aldrich     </td><td>8</td><td>339</td><td>2010</td><td>11</td><td>Jr</td><td>B12 </td><td> 9.8</td><td>116.9</td><td>20.2</td><td>⋯</td><td> 5.8</td><td>16.4</td><td>13.0</td><td>1.6</td><td>60.0</td><td>0.679</td><td>0.562</td><td> 0.0</td><td>0.000</td><td>83</td></tr>\n",
       "\t<tr><th scope=row>12</th><td>Xavier Henry     </td><td>5</td><td>185</td><td>2010</td><td>12</td><td>Fr</td><td>B12 </td><td> 8.0</td><td>113.7</td><td>21.7</td><td>⋯</td><td> 9.8</td><td>18.2</td><td> 1.8</td><td>3.1</td><td>32.5</td><td>0.783</td><td>0.492</td><td>46.6</td><td>0.418</td><td>78</td></tr>\n",
       "\t<tr><th scope=row>13</th><td>Ed Davis         </td><td>9</td><td>569</td><td>2010</td><td>13</td><td>So</td><td>ACC </td><td> 6.8</td><td>112.0</td><td>21.5</td><td>⋯</td><td> 6.8</td><td>18.3</td><td> 9.5</td><td>0.9</td><td>68.8</td><td>0.659</td><td>0.578</td><td> 0.0</td><td>0.000</td><td>82</td></tr>\n",
       "\t<tr><th scope=row>14</th><td>Patrick Patterson</td><td>9</td><td>567</td><td>2010</td><td>14</td><td>Jr</td><td>SEC </td><td> 8.7</td><td>129.5</td><td>17.2</td><td>⋯</td><td> 5.5</td><td>10.7</td><td> 4.1</td><td>1.2</td><td>34.8</td><td>0.692</td><td>0.626</td><td>18.4</td><td>0.348</td><td>81</td></tr>\n",
       "\t<tr><th scope=row>15</th><td>Larry Sanders    </td><td>6</td><td>238</td><td>2010</td><td>15</td><td>Jr</td><td>CAA </td><td> 6.3</td><td>112.8</td><td>26.1</td><td>⋯</td><td> 7.7</td><td>13.8</td><td> 9.1</td><td>1.6</td><td>45.5</td><td>0.641</td><td>0.547</td><td> 4.4</td><td>0.250</td><td>83</td></tr>\n",
       "\t<tr><th scope=row>16</th><td>Luke Babbitt     </td><td>8</td><td>381</td><td>2010</td><td>16</td><td>So</td><td>WAC </td><td> 7.1</td><td>120.4</td><td>26.0</td><td>⋯</td><td>10.9</td><td>13.9</td><td> 1.9</td><td>1.5</td><td>43.0</td><td>0.920</td><td>0.517</td><td>20.3</td><td>0.420</td><td>81</td></tr>\n",
       "\t<tr><th scope=row>18</th><td>Eric Bledsoe     </td><td>9</td><td>501</td><td>2010</td><td>18</td><td>Fr</td><td>SEC </td><td> 3.6</td><td>100.4</td><td>20.2</td><td>⋯</td><td>16.8</td><td>27.7</td><td> 1.1</td><td>2.6</td><td>39.4</td><td>0.667</td><td>0.516</td><td>41.0</td><td>0.383</td><td>73</td></tr>\n",
       "\t<tr><th scope=row>19</th><td>Avery Bradley    </td><td>9</td><td>468</td><td>2010</td><td>19</td><td>Fr</td><td>B12 </td><td> 4.1</td><td>105.2</td><td>19.0</td><td>⋯</td><td>12.4</td><td>14.6</td><td> 1.6</td><td>2.4</td><td>17.9</td><td>0.545</td><td>0.457</td><td>30.4</td><td>0.375</td><td>74</td></tr>\n",
       "\t<tr><th scope=row>20</th><td>James Anderson   </td><td>5</td><td>247</td><td>2010</td><td>20</td><td>Jr</td><td>B12 </td><td>11.3</td><td>117.5</td><td>30.7</td><td>⋯</td><td>16.5</td><td>13.1</td><td> 2.0</td><td>2.4</td><td>52.2</td><td>0.810</td><td>0.549</td><td>43.9</td><td>0.341</td><td>78</td></tr>\n",
       "\t<tr><th scope=row>21</th><td>Elliot Williams  </td><td>4</td><td>109</td><td>2010</td><td>22</td><td>So</td><td>CUSA</td><td> 6.0</td><td>112.8</td><td>27.7</td><td>⋯</td><td>24.0</td><td>18.8</td><td> 0.4</td><td>2.4</td><td>66.0</td><td>0.758</td><td>0.527</td><td>42.3</td><td>0.366</td><td>77</td></tr>\n",
       "\t<tr><th scope=row>22</th><td>Trevor Booker    </td><td>8</td><td>532</td><td>2010</td><td>23</td><td>Sr</td><td>ACC </td><td>10.1</td><td>112.0</td><td>24.7</td><td>⋯</td><td>17.4</td><td>14.4</td><td> 4.6</td><td>2.5</td><td>47.4</td><td>0.591</td><td>0.547</td><td> 9.4</td><td>0.265</td><td>79</td></tr>\n",
       "\t<tr><th scope=row>23</th><td>Damion James     </td><td>4</td><td> 39</td><td>2010</td><td>24</td><td>Sr</td><td>B12 </td><td> 9.9</td><td>115.6</td><td>25.5</td><td>⋯</td><td> 6.1</td><td>14.1</td><td> 3.6</td><td>3.0</td><td>54.9</td><td>0.674</td><td>0.535</td><td>22.4</td><td>0.383</td><td>79</td></tr>\n",
       "\t<tr><th scope=row>24</th><td>Quincy Pondexter </td><td>7</td><td>308</td><td>2010</td><td>26</td><td>Sr</td><td>P12 </td><td> 9.6</td><td>123.0</td><td>25.2</td><td>⋯</td><td>11.2</td><td>12.8</td><td> 1.8</td><td>2.2</td><td>48.7</td><td>0.827</td><td>0.550</td><td>11.0</td><td>0.353</td><td>78</td></tr>\n",
       "\t<tr><th scope=row>25</th><td>Jordan Crawford  </td><td>6</td><td>281</td><td>2010</td><td>27</td><td>So</td><td>A10 </td><td> 9.6</td><td>113.0</td><td>28.9</td><td>⋯</td><td>20.1</td><td>14.7</td><td> 0.6</td><td>2.4</td><td>27.4</td><td>0.773</td><td>0.501</td><td>35.9</td><td>0.391</td><td>76</td></tr>\n",
       "\t<tr><th scope=row>26</th><td>Greivis Vasquez  </td><td>7</td><td>401</td><td>2010</td><td>28</td><td>Sr</td><td>ACC </td><td>10.0</td><td>111.7</td><td>30.7</td><td>⋯</td><td>35.3</td><td>18.2</td><td> 1.0</td><td>2.9</td><td>31.8</td><td>0.857</td><td>0.472</td><td>36.8</td><td>0.360</td><td>78</td></tr>\n",
       "\t<tr><th scope=row>27</th><td>Dexter Pittman   </td><td>4</td><td> 50</td><td>2010</td><td>32</td><td>Sr</td><td>B12 </td><td> 7.0</td><td>113.1</td><td>24.4</td><td>⋯</td><td> 5.1</td><td>20.4</td><td> 8.9</td><td>1.0</td><td>63.1</td><td>0.556</td><td>0.654</td><td> 0.0</td><td>0.000</td><td>82</td></tr>\n",
       "\t<tr><th scope=row>28</th><td>Hassan Whiteside </td><td>7</td><td>279</td><td>2010</td><td>33</td><td>Fr</td><td>CUSA</td><td> 6.7</td><td>101.7</td><td>24.9</td><td>⋯</td><td> 1.8</td><td>16.4</td><td>18.3</td><td>1.2</td><td>58.8</td><td>0.594</td><td>0.504</td><td> 1.7</td><td>0.600</td><td>85</td></tr>\n",
       "\t<tr><th scope=row>30</th><td>Landry Fields    </td><td>5</td><td>255</td><td>2010</td><td>39</td><td>Sr</td><td>P12 </td><td>10.6</td><td>110.3</td><td>31.0</td><td>⋯</td><td>19.6</td><td>13.6</td><td> 2.3</td><td>2.6</td><td>50.8</td><td>0.696</td><td>0.521</td><td>17.0</td><td>0.337</td><td>79</td></tr>\n",
       "\t<tr><th scope=row>31</th><td>Lance Stephenson </td><td>9</td><td>450</td><td>2010</td><td>40</td><td>Fr</td><td>BE  </td><td> 4.6</td><td> 99.3</td><td>26.0</td><td>⋯</td><td>19.1</td><td>19.5</td><td> 0.7</td><td>1.9</td><td>32.3</td><td>0.664</td><td>0.495</td><td>19.8</td><td>0.219</td><td>77</td></tr>\n",
       "\t<tr><th scope=row>32</th><td>Jeremy Evans     </td><td>7</td><td>250</td><td>2010</td><td>55</td><td>Sr</td><td>SB  </td><td> 6.2</td><td>129.2</td><td>17.3</td><td>⋯</td><td> 5.9</td><td>14.0</td><td> 7.2</td><td>1.9</td><td>44.1</td><td>0.688</td><td>0.673</td><td> 5.7</td><td>0.250</td><td>81</td></tr>\n",
       "</tbody>\n",
       "</table>\n"
      ],
      "text/latex": [
       "A data.frame: 30 × 24\n",
       "\\begin{tabular}{r|lllllllllllllllllllll}\n",
       "  & PLAYER & Play\\_Yrs & Games & Year & Pick & CLASS & CONF & BPM & ORTG & USG & ⋯ & AST & TO & BLK & STL & FTR & FT\\_PERC & X2P\\_PERC & X3PR & X3P\\_PERC & HEIGHT\\_IN\\\\\n",
       "  & <chr> & <int> & <int> & <int> & <int> & <chr> & <chr> & <dbl> & <dbl> & <dbl> & ⋯ & <dbl> & <dbl> & <dbl> & <dbl> & <dbl> & <dbl> & <dbl> & <dbl> & <dbl> & <dbl>\\\\\n",
       "\\hline\n",
       "\t1 & John Wall         & 9 & 550 & 2010 &  1 & Fr & SEC  &  7.7 & 108.7 & 26.9 & ⋯ & 34.8 & 24.2 &  1.5 & 2.9 & 53.0 & 0.754 & 0.509 & 26.0 & 0.325 & 76\\\\\n",
       "\t2 & Evan Turner       & 9 & 623 & 2010 &  2 & Jr & B10  & 11.2 & 108.9 & 34.5 & ⋯ & 37.5 & 21.7 &  2.9 & 3.0 & 39.8 & 0.758 & 0.540 & 12.0 & 0.364 & 79\\\\\n",
       "\t3 & Derrick Favors    & 9 & 564 & 2010 &  3 & Fr & ACC  &  7.5 & 109.0 & 21.8 & ⋯ &  7.3 & 22.9 &  7.8 & 1.8 & 47.6 & 0.628 & 0.617 &  0.3 & 0.000 & 82\\\\\n",
       "\t4 & Wesley Johnson    & 9 & 574 & 2010 &  4 & Jr & BE   &  9.2 & 116.1 & 21.1 & ⋯ & 11.1 & 17.5 &  5.7 & 2.7 & 35.2 & 0.772 & 0.540 & 29.9 & 0.415 & 79\\\\\n",
       "\t5 & DeMarcus Cousins  & 8 & 535 & 2010 &  5 & Fr & SEC  &  9.6 & 113.5 & 30.8 & ⋯ &  9.2 & 16.0 &  7.5 & 2.4 & 72.6 & 0.604 & 0.565 &  1.6 & 0.167 & 83\\\\\n",
       "\t6 & Ekpe Udoh         & 7 & 339 & 2010 &  6 & Jr & B12  &  8.8 & 110.5 & 23.0 & ⋯ & 14.7 & 17.9 & 11.0 & 1.4 & 41.4 & 0.692 & 0.497 &  6.8 & 0.269 & 82\\\\\n",
       "\t7 & Greg Monroe       & 9 & 592 & 2010 &  7 & So & BE   &  7.9 & 106.8 & 27.5 & ⋯ & 22.4 & 20.8 &  4.9 & 2.2 & 54.3 & 0.660 & 0.545 &  7.0 & 0.259 & 83\\\\\n",
       "\t8 & Al-Farouq Aminu   & 9 & 599 & 2010 &  8 & So & ACC  &  6.4 & 101.8 & 27.8 & ⋯ &  9.1 & 20.6 &  4.5 & 2.6 & 53.2 & 0.698 & 0.484 & 17.6 & 0.273 & 81\\\\\n",
       "\t9 & Gordon Hayward    & 9 & 525 & 2010 &  9 & So & Horz &  9.0 & 113.3 & 24.4 & ⋯ & 12.1 & 17.5 &  2.8 & 2.0 & 57.9 & 0.829 & 0.592 & 42.9 & 0.294 & 81\\\\\n",
       "\t10 & Paul George       & 9 & 535 & 2010 & 10 & So & WAC  &  6.7 & 105.6 & 27.3 & ⋯ & 22.6 & 20.8 &  3.0 & 3.9 & 34.8 & 0.902 & 0.489 & 46.4 & 0.356 & 80\\\\\n",
       "\t11 & Cole Aldrich      & 8 & 339 & 2010 & 11 & Jr & B12  &  9.8 & 116.9 & 20.2 & ⋯ &  5.8 & 16.4 & 13.0 & 1.6 & 60.0 & 0.679 & 0.562 &  0.0 & 0.000 & 83\\\\\n",
       "\t12 & Xavier Henry      & 5 & 185 & 2010 & 12 & Fr & B12  &  8.0 & 113.7 & 21.7 & ⋯ &  9.8 & 18.2 &  1.8 & 3.1 & 32.5 & 0.783 & 0.492 & 46.6 & 0.418 & 78\\\\\n",
       "\t13 & Ed Davis          & 9 & 569 & 2010 & 13 & So & ACC  &  6.8 & 112.0 & 21.5 & ⋯ &  6.8 & 18.3 &  9.5 & 0.9 & 68.8 & 0.659 & 0.578 &  0.0 & 0.000 & 82\\\\\n",
       "\t14 & Patrick Patterson & 9 & 567 & 2010 & 14 & Jr & SEC  &  8.7 & 129.5 & 17.2 & ⋯ &  5.5 & 10.7 &  4.1 & 1.2 & 34.8 & 0.692 & 0.626 & 18.4 & 0.348 & 81\\\\\n",
       "\t15 & Larry Sanders     & 6 & 238 & 2010 & 15 & Jr & CAA  &  6.3 & 112.8 & 26.1 & ⋯ &  7.7 & 13.8 &  9.1 & 1.6 & 45.5 & 0.641 & 0.547 &  4.4 & 0.250 & 83\\\\\n",
       "\t16 & Luke Babbitt      & 8 & 381 & 2010 & 16 & So & WAC  &  7.1 & 120.4 & 26.0 & ⋯ & 10.9 & 13.9 &  1.9 & 1.5 & 43.0 & 0.920 & 0.517 & 20.3 & 0.420 & 81\\\\\n",
       "\t18 & Eric Bledsoe      & 9 & 501 & 2010 & 18 & Fr & SEC  &  3.6 & 100.4 & 20.2 & ⋯ & 16.8 & 27.7 &  1.1 & 2.6 & 39.4 & 0.667 & 0.516 & 41.0 & 0.383 & 73\\\\\n",
       "\t19 & Avery Bradley     & 9 & 468 & 2010 & 19 & Fr & B12  &  4.1 & 105.2 & 19.0 & ⋯ & 12.4 & 14.6 &  1.6 & 2.4 & 17.9 & 0.545 & 0.457 & 30.4 & 0.375 & 74\\\\\n",
       "\t20 & James Anderson    & 5 & 247 & 2010 & 20 & Jr & B12  & 11.3 & 117.5 & 30.7 & ⋯ & 16.5 & 13.1 &  2.0 & 2.4 & 52.2 & 0.810 & 0.549 & 43.9 & 0.341 & 78\\\\\n",
       "\t21 & Elliot Williams   & 4 & 109 & 2010 & 22 & So & CUSA &  6.0 & 112.8 & 27.7 & ⋯ & 24.0 & 18.8 &  0.4 & 2.4 & 66.0 & 0.758 & 0.527 & 42.3 & 0.366 & 77\\\\\n",
       "\t22 & Trevor Booker     & 8 & 532 & 2010 & 23 & Sr & ACC  & 10.1 & 112.0 & 24.7 & ⋯ & 17.4 & 14.4 &  4.6 & 2.5 & 47.4 & 0.591 & 0.547 &  9.4 & 0.265 & 79\\\\\n",
       "\t23 & Damion James      & 4 &  39 & 2010 & 24 & Sr & B12  &  9.9 & 115.6 & 25.5 & ⋯ &  6.1 & 14.1 &  3.6 & 3.0 & 54.9 & 0.674 & 0.535 & 22.4 & 0.383 & 79\\\\\n",
       "\t24 & Quincy Pondexter  & 7 & 308 & 2010 & 26 & Sr & P12  &  9.6 & 123.0 & 25.2 & ⋯ & 11.2 & 12.8 &  1.8 & 2.2 & 48.7 & 0.827 & 0.550 & 11.0 & 0.353 & 78\\\\\n",
       "\t25 & Jordan Crawford   & 6 & 281 & 2010 & 27 & So & A10  &  9.6 & 113.0 & 28.9 & ⋯ & 20.1 & 14.7 &  0.6 & 2.4 & 27.4 & 0.773 & 0.501 & 35.9 & 0.391 & 76\\\\\n",
       "\t26 & Greivis Vasquez   & 7 & 401 & 2010 & 28 & Sr & ACC  & 10.0 & 111.7 & 30.7 & ⋯ & 35.3 & 18.2 &  1.0 & 2.9 & 31.8 & 0.857 & 0.472 & 36.8 & 0.360 & 78\\\\\n",
       "\t27 & Dexter Pittman    & 4 &  50 & 2010 & 32 & Sr & B12  &  7.0 & 113.1 & 24.4 & ⋯ &  5.1 & 20.4 &  8.9 & 1.0 & 63.1 & 0.556 & 0.654 &  0.0 & 0.000 & 82\\\\\n",
       "\t28 & Hassan Whiteside  & 7 & 279 & 2010 & 33 & Fr & CUSA &  6.7 & 101.7 & 24.9 & ⋯ &  1.8 & 16.4 & 18.3 & 1.2 & 58.8 & 0.594 & 0.504 &  1.7 & 0.600 & 85\\\\\n",
       "\t30 & Landry Fields     & 5 & 255 & 2010 & 39 & Sr & P12  & 10.6 & 110.3 & 31.0 & ⋯ & 19.6 & 13.6 &  2.3 & 2.6 & 50.8 & 0.696 & 0.521 & 17.0 & 0.337 & 79\\\\\n",
       "\t31 & Lance Stephenson  & 9 & 450 & 2010 & 40 & Fr & BE   &  4.6 &  99.3 & 26.0 & ⋯ & 19.1 & 19.5 &  0.7 & 1.9 & 32.3 & 0.664 & 0.495 & 19.8 & 0.219 & 77\\\\\n",
       "\t32 & Jeremy Evans      & 7 & 250 & 2010 & 55 & Sr & SB   &  6.2 & 129.2 & 17.3 & ⋯ &  5.9 & 14.0 &  7.2 & 1.9 & 44.1 & 0.688 & 0.673 &  5.7 & 0.250 & 81\\\\\n",
       "\\end{tabular}\n"
      ],
      "text/markdown": [
       "\n",
       "A data.frame: 30 × 24\n",
       "\n",
       "| <!--/--> | PLAYER &lt;chr&gt; | Play_Yrs &lt;int&gt; | Games &lt;int&gt; | Year &lt;int&gt; | Pick &lt;int&gt; | CLASS &lt;chr&gt; | CONF &lt;chr&gt; | BPM &lt;dbl&gt; | ORTG &lt;dbl&gt; | USG &lt;dbl&gt; | ⋯ ⋯ | AST &lt;dbl&gt; | TO &lt;dbl&gt; | BLK &lt;dbl&gt; | STL &lt;dbl&gt; | FTR &lt;dbl&gt; | FT_PERC &lt;dbl&gt; | X2P_PERC &lt;dbl&gt; | X3PR &lt;dbl&gt; | X3P_PERC &lt;dbl&gt; | HEIGHT_IN &lt;dbl&gt; |\n",
       "|---|---|---|---|---|---|---|---|---|---|---|---|---|---|---|---|---|---|---|---|---|---|\n",
       "| 1 | John Wall         | 9 | 550 | 2010 |  1 | Fr | SEC  |  7.7 | 108.7 | 26.9 | ⋯ | 34.8 | 24.2 |  1.5 | 2.9 | 53.0 | 0.754 | 0.509 | 26.0 | 0.325 | 76 |\n",
       "| 2 | Evan Turner       | 9 | 623 | 2010 |  2 | Jr | B10  | 11.2 | 108.9 | 34.5 | ⋯ | 37.5 | 21.7 |  2.9 | 3.0 | 39.8 | 0.758 | 0.540 | 12.0 | 0.364 | 79 |\n",
       "| 3 | Derrick Favors    | 9 | 564 | 2010 |  3 | Fr | ACC  |  7.5 | 109.0 | 21.8 | ⋯ |  7.3 | 22.9 |  7.8 | 1.8 | 47.6 | 0.628 | 0.617 |  0.3 | 0.000 | 82 |\n",
       "| 4 | Wesley Johnson    | 9 | 574 | 2010 |  4 | Jr | BE   |  9.2 | 116.1 | 21.1 | ⋯ | 11.1 | 17.5 |  5.7 | 2.7 | 35.2 | 0.772 | 0.540 | 29.9 | 0.415 | 79 |\n",
       "| 5 | DeMarcus Cousins  | 8 | 535 | 2010 |  5 | Fr | SEC  |  9.6 | 113.5 | 30.8 | ⋯ |  9.2 | 16.0 |  7.5 | 2.4 | 72.6 | 0.604 | 0.565 |  1.6 | 0.167 | 83 |\n",
       "| 6 | Ekpe Udoh         | 7 | 339 | 2010 |  6 | Jr | B12  |  8.8 | 110.5 | 23.0 | ⋯ | 14.7 | 17.9 | 11.0 | 1.4 | 41.4 | 0.692 | 0.497 |  6.8 | 0.269 | 82 |\n",
       "| 7 | Greg Monroe       | 9 | 592 | 2010 |  7 | So | BE   |  7.9 | 106.8 | 27.5 | ⋯ | 22.4 | 20.8 |  4.9 | 2.2 | 54.3 | 0.660 | 0.545 |  7.0 | 0.259 | 83 |\n",
       "| 8 | Al-Farouq Aminu   | 9 | 599 | 2010 |  8 | So | ACC  |  6.4 | 101.8 | 27.8 | ⋯ |  9.1 | 20.6 |  4.5 | 2.6 | 53.2 | 0.698 | 0.484 | 17.6 | 0.273 | 81 |\n",
       "| 9 | Gordon Hayward    | 9 | 525 | 2010 |  9 | So | Horz |  9.0 | 113.3 | 24.4 | ⋯ | 12.1 | 17.5 |  2.8 | 2.0 | 57.9 | 0.829 | 0.592 | 42.9 | 0.294 | 81 |\n",
       "| 10 | Paul George       | 9 | 535 | 2010 | 10 | So | WAC  |  6.7 | 105.6 | 27.3 | ⋯ | 22.6 | 20.8 |  3.0 | 3.9 | 34.8 | 0.902 | 0.489 | 46.4 | 0.356 | 80 |\n",
       "| 11 | Cole Aldrich      | 8 | 339 | 2010 | 11 | Jr | B12  |  9.8 | 116.9 | 20.2 | ⋯ |  5.8 | 16.4 | 13.0 | 1.6 | 60.0 | 0.679 | 0.562 |  0.0 | 0.000 | 83 |\n",
       "| 12 | Xavier Henry      | 5 | 185 | 2010 | 12 | Fr | B12  |  8.0 | 113.7 | 21.7 | ⋯ |  9.8 | 18.2 |  1.8 | 3.1 | 32.5 | 0.783 | 0.492 | 46.6 | 0.418 | 78 |\n",
       "| 13 | Ed Davis          | 9 | 569 | 2010 | 13 | So | ACC  |  6.8 | 112.0 | 21.5 | ⋯ |  6.8 | 18.3 |  9.5 | 0.9 | 68.8 | 0.659 | 0.578 |  0.0 | 0.000 | 82 |\n",
       "| 14 | Patrick Patterson | 9 | 567 | 2010 | 14 | Jr | SEC  |  8.7 | 129.5 | 17.2 | ⋯ |  5.5 | 10.7 |  4.1 | 1.2 | 34.8 | 0.692 | 0.626 | 18.4 | 0.348 | 81 |\n",
       "| 15 | Larry Sanders     | 6 | 238 | 2010 | 15 | Jr | CAA  |  6.3 | 112.8 | 26.1 | ⋯ |  7.7 | 13.8 |  9.1 | 1.6 | 45.5 | 0.641 | 0.547 |  4.4 | 0.250 | 83 |\n",
       "| 16 | Luke Babbitt      | 8 | 381 | 2010 | 16 | So | WAC  |  7.1 | 120.4 | 26.0 | ⋯ | 10.9 | 13.9 |  1.9 | 1.5 | 43.0 | 0.920 | 0.517 | 20.3 | 0.420 | 81 |\n",
       "| 18 | Eric Bledsoe      | 9 | 501 | 2010 | 18 | Fr | SEC  |  3.6 | 100.4 | 20.2 | ⋯ | 16.8 | 27.7 |  1.1 | 2.6 | 39.4 | 0.667 | 0.516 | 41.0 | 0.383 | 73 |\n",
       "| 19 | Avery Bradley     | 9 | 468 | 2010 | 19 | Fr | B12  |  4.1 | 105.2 | 19.0 | ⋯ | 12.4 | 14.6 |  1.6 | 2.4 | 17.9 | 0.545 | 0.457 | 30.4 | 0.375 | 74 |\n",
       "| 20 | James Anderson    | 5 | 247 | 2010 | 20 | Jr | B12  | 11.3 | 117.5 | 30.7 | ⋯ | 16.5 | 13.1 |  2.0 | 2.4 | 52.2 | 0.810 | 0.549 | 43.9 | 0.341 | 78 |\n",
       "| 21 | Elliot Williams   | 4 | 109 | 2010 | 22 | So | CUSA |  6.0 | 112.8 | 27.7 | ⋯ | 24.0 | 18.8 |  0.4 | 2.4 | 66.0 | 0.758 | 0.527 | 42.3 | 0.366 | 77 |\n",
       "| 22 | Trevor Booker     | 8 | 532 | 2010 | 23 | Sr | ACC  | 10.1 | 112.0 | 24.7 | ⋯ | 17.4 | 14.4 |  4.6 | 2.5 | 47.4 | 0.591 | 0.547 |  9.4 | 0.265 | 79 |\n",
       "| 23 | Damion James      | 4 |  39 | 2010 | 24 | Sr | B12  |  9.9 | 115.6 | 25.5 | ⋯ |  6.1 | 14.1 |  3.6 | 3.0 | 54.9 | 0.674 | 0.535 | 22.4 | 0.383 | 79 |\n",
       "| 24 | Quincy Pondexter  | 7 | 308 | 2010 | 26 | Sr | P12  |  9.6 | 123.0 | 25.2 | ⋯ | 11.2 | 12.8 |  1.8 | 2.2 | 48.7 | 0.827 | 0.550 | 11.0 | 0.353 | 78 |\n",
       "| 25 | Jordan Crawford   | 6 | 281 | 2010 | 27 | So | A10  |  9.6 | 113.0 | 28.9 | ⋯ | 20.1 | 14.7 |  0.6 | 2.4 | 27.4 | 0.773 | 0.501 | 35.9 | 0.391 | 76 |\n",
       "| 26 | Greivis Vasquez   | 7 | 401 | 2010 | 28 | Sr | ACC  | 10.0 | 111.7 | 30.7 | ⋯ | 35.3 | 18.2 |  1.0 | 2.9 | 31.8 | 0.857 | 0.472 | 36.8 | 0.360 | 78 |\n",
       "| 27 | Dexter Pittman    | 4 |  50 | 2010 | 32 | Sr | B12  |  7.0 | 113.1 | 24.4 | ⋯ |  5.1 | 20.4 |  8.9 | 1.0 | 63.1 | 0.556 | 0.654 |  0.0 | 0.000 | 82 |\n",
       "| 28 | Hassan Whiteside  | 7 | 279 | 2010 | 33 | Fr | CUSA |  6.7 | 101.7 | 24.9 | ⋯ |  1.8 | 16.4 | 18.3 | 1.2 | 58.8 | 0.594 | 0.504 |  1.7 | 0.600 | 85 |\n",
       "| 30 | Landry Fields     | 5 | 255 | 2010 | 39 | Sr | P12  | 10.6 | 110.3 | 31.0 | ⋯ | 19.6 | 13.6 |  2.3 | 2.6 | 50.8 | 0.696 | 0.521 | 17.0 | 0.337 | 79 |\n",
       "| 31 | Lance Stephenson  | 9 | 450 | 2010 | 40 | Fr | BE   |  4.6 |  99.3 | 26.0 | ⋯ | 19.1 | 19.5 |  0.7 | 1.9 | 32.3 | 0.664 | 0.495 | 19.8 | 0.219 | 77 |\n",
       "| 32 | Jeremy Evans      | 7 | 250 | 2010 | 55 | Sr | SB   |  6.2 | 129.2 | 17.3 | ⋯ |  5.9 | 14.0 |  7.2 | 1.9 | 44.1 | 0.688 | 0.673 |  5.7 | 0.250 | 81 |\n",
       "\n"
      ],
      "text/plain": [
       "   PLAYER            Play_Yrs Games Year Pick CLASS CONF BPM  ORTG  USG  ⋯ AST \n",
       "1  John Wall         9        550   2010  1   Fr    SEC   7.7 108.7 26.9 ⋯ 34.8\n",
       "2  Evan Turner       9        623   2010  2   Jr    B10  11.2 108.9 34.5 ⋯ 37.5\n",
       "3  Derrick Favors    9        564   2010  3   Fr    ACC   7.5 109.0 21.8 ⋯  7.3\n",
       "4  Wesley Johnson    9        574   2010  4   Jr    BE    9.2 116.1 21.1 ⋯ 11.1\n",
       "5  DeMarcus Cousins  8        535   2010  5   Fr    SEC   9.6 113.5 30.8 ⋯  9.2\n",
       "6  Ekpe Udoh         7        339   2010  6   Jr    B12   8.8 110.5 23.0 ⋯ 14.7\n",
       "7  Greg Monroe       9        592   2010  7   So    BE    7.9 106.8 27.5 ⋯ 22.4\n",
       "8  Al-Farouq Aminu   9        599   2010  8   So    ACC   6.4 101.8 27.8 ⋯  9.1\n",
       "9  Gordon Hayward    9        525   2010  9   So    Horz  9.0 113.3 24.4 ⋯ 12.1\n",
       "10 Paul George       9        535   2010 10   So    WAC   6.7 105.6 27.3 ⋯ 22.6\n",
       "11 Cole Aldrich      8        339   2010 11   Jr    B12   9.8 116.9 20.2 ⋯  5.8\n",
       "12 Xavier Henry      5        185   2010 12   Fr    B12   8.0 113.7 21.7 ⋯  9.8\n",
       "13 Ed Davis          9        569   2010 13   So    ACC   6.8 112.0 21.5 ⋯  6.8\n",
       "14 Patrick Patterson 9        567   2010 14   Jr    SEC   8.7 129.5 17.2 ⋯  5.5\n",
       "15 Larry Sanders     6        238   2010 15   Jr    CAA   6.3 112.8 26.1 ⋯  7.7\n",
       "16 Luke Babbitt      8        381   2010 16   So    WAC   7.1 120.4 26.0 ⋯ 10.9\n",
       "18 Eric Bledsoe      9        501   2010 18   Fr    SEC   3.6 100.4 20.2 ⋯ 16.8\n",
       "19 Avery Bradley     9        468   2010 19   Fr    B12   4.1 105.2 19.0 ⋯ 12.4\n",
       "20 James Anderson    5        247   2010 20   Jr    B12  11.3 117.5 30.7 ⋯ 16.5\n",
       "21 Elliot Williams   4        109   2010 22   So    CUSA  6.0 112.8 27.7 ⋯ 24.0\n",
       "22 Trevor Booker     8        532   2010 23   Sr    ACC  10.1 112.0 24.7 ⋯ 17.4\n",
       "23 Damion James      4         39   2010 24   Sr    B12   9.9 115.6 25.5 ⋯  6.1\n",
       "24 Quincy Pondexter  7        308   2010 26   Sr    P12   9.6 123.0 25.2 ⋯ 11.2\n",
       "25 Jordan Crawford   6        281   2010 27   So    A10   9.6 113.0 28.9 ⋯ 20.1\n",
       "26 Greivis Vasquez   7        401   2010 28   Sr    ACC  10.0 111.7 30.7 ⋯ 35.3\n",
       "27 Dexter Pittman    4         50   2010 32   Sr    B12   7.0 113.1 24.4 ⋯  5.1\n",
       "28 Hassan Whiteside  7        279   2010 33   Fr    CUSA  6.7 101.7 24.9 ⋯  1.8\n",
       "30 Landry Fields     5        255   2010 39   Sr    P12  10.6 110.3 31.0 ⋯ 19.6\n",
       "31 Lance Stephenson  9        450   2010 40   Fr    BE    4.6  99.3 26.0 ⋯ 19.1\n",
       "32 Jeremy Evans      7        250   2010 55   Sr    SB    6.2 129.2 17.3 ⋯  5.9\n",
       "   TO   BLK  STL FTR  FT_PERC X2P_PERC X3PR X3P_PERC HEIGHT_IN\n",
       "1  24.2  1.5 2.9 53.0 0.754   0.509    26.0 0.325    76       \n",
       "2  21.7  2.9 3.0 39.8 0.758   0.540    12.0 0.364    79       \n",
       "3  22.9  7.8 1.8 47.6 0.628   0.617     0.3 0.000    82       \n",
       "4  17.5  5.7 2.7 35.2 0.772   0.540    29.9 0.415    79       \n",
       "5  16.0  7.5 2.4 72.6 0.604   0.565     1.6 0.167    83       \n",
       "6  17.9 11.0 1.4 41.4 0.692   0.497     6.8 0.269    82       \n",
       "7  20.8  4.9 2.2 54.3 0.660   0.545     7.0 0.259    83       \n",
       "8  20.6  4.5 2.6 53.2 0.698   0.484    17.6 0.273    81       \n",
       "9  17.5  2.8 2.0 57.9 0.829   0.592    42.9 0.294    81       \n",
       "10 20.8  3.0 3.9 34.8 0.902   0.489    46.4 0.356    80       \n",
       "11 16.4 13.0 1.6 60.0 0.679   0.562     0.0 0.000    83       \n",
       "12 18.2  1.8 3.1 32.5 0.783   0.492    46.6 0.418    78       \n",
       "13 18.3  9.5 0.9 68.8 0.659   0.578     0.0 0.000    82       \n",
       "14 10.7  4.1 1.2 34.8 0.692   0.626    18.4 0.348    81       \n",
       "15 13.8  9.1 1.6 45.5 0.641   0.547     4.4 0.250    83       \n",
       "16 13.9  1.9 1.5 43.0 0.920   0.517    20.3 0.420    81       \n",
       "18 27.7  1.1 2.6 39.4 0.667   0.516    41.0 0.383    73       \n",
       "19 14.6  1.6 2.4 17.9 0.545   0.457    30.4 0.375    74       \n",
       "20 13.1  2.0 2.4 52.2 0.810   0.549    43.9 0.341    78       \n",
       "21 18.8  0.4 2.4 66.0 0.758   0.527    42.3 0.366    77       \n",
       "22 14.4  4.6 2.5 47.4 0.591   0.547     9.4 0.265    79       \n",
       "23 14.1  3.6 3.0 54.9 0.674   0.535    22.4 0.383    79       \n",
       "24 12.8  1.8 2.2 48.7 0.827   0.550    11.0 0.353    78       \n",
       "25 14.7  0.6 2.4 27.4 0.773   0.501    35.9 0.391    76       \n",
       "26 18.2  1.0 2.9 31.8 0.857   0.472    36.8 0.360    78       \n",
       "27 20.4  8.9 1.0 63.1 0.556   0.654     0.0 0.000    82       \n",
       "28 16.4 18.3 1.2 58.8 0.594   0.504     1.7 0.600    85       \n",
       "30 13.6  2.3 2.6 50.8 0.696   0.521    17.0 0.337    79       \n",
       "31 19.5  0.7 1.9 32.3 0.664   0.495    19.8 0.219    77       \n",
       "32 14.0  7.2 1.9 44.1 0.688   0.673     5.7 0.250    81       "
      ]
     },
     "metadata": {},
     "output_type": "display_data"
    }
   ],
   "source": [
    "merged2010"
   ]
  },
  {
   "cell_type": "code",
   "execution_count": null,
   "metadata": {},
   "outputs": [],
   "source": []
  }
 ],
 "metadata": {
  "kernelspec": {
   "display_name": "R",
   "language": "R",
   "name": "ir"
  },
  "language_info": {
   "codemirror_mode": "r",
   "file_extension": ".r",
   "mimetype": "text/x-r-source",
   "name": "R",
   "pygments_lexer": "r",
   "version": "4.0.2"
  }
 },
 "nbformat": 4,
 "nbformat_minor": 4
}
